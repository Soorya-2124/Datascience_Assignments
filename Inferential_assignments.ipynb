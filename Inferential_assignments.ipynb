{
 "cells": [
  {
   "cell_type": "code",
   "execution_count": 10,
   "id": "ac5c23d0",
   "metadata": {},
   "outputs": [],
   "source": [
    "# Question 1\n",
    "# H0: mean =20\n",
    "# H1: mean> 20\n",
    "# you have potato yield from 12 different farms and you are checking whether standard potato yield \n",
    "# for the given variety is 20 or greater.\n",
    "from scipy.stats import ttest_1samp\n",
    "import numpy as np\n",
    "\n",
    "x = [21.5, 24.5, 18.5, 17.2, 14.5, 23.2, 22.1, 20.5, 19.4, 18.1, 24.1, 18.5]\n",
    "#x_mean = np.mean(x)\n",
    "#x_mean "
   ]
  },
  {
   "cell_type": "code",
   "execution_count": 9,
   "id": "9bba31ad",
   "metadata": {},
   "outputs": [
    {
     "name": "stdout",
     "output_type": "stream",
     "text": [
      "0.4223145946526807\n",
      "0.2006562773994862\n"
     ]
    }
   ],
   "source": [
    "# T-Test\n",
    "t, pval = ttest_1samp(a= x, popmean=20, alternative=\"greater\")\n",
    "print(pval)\n",
    "print(t)# your data matches the null hypothesis and there are no irregularities "
   ]
  },
  {
   "cell_type": "code",
   "execution_count": 11,
   "id": "4c6ec4b4",
   "metadata": {},
   "outputs": [
    {
     "name": "stdout",
     "output_type": "stream",
     "text": [
      "we are failing to reject the null hypothesis\n"
     ]
    }
   ],
   "source": [
    "if pval < 0.05:    # alpha value is 0.05 or 5%, 10%\n",
    "   print(\" we are rejecting the null hypothesis\")\n",
    "else:\n",
    "  print(\"we are failing to reject the null hypothesis\")"
   ]
  },
  {
   "cell_type": "code",
   "execution_count": 58,
   "id": "842f3cb5",
   "metadata": {},
   "outputs": [
    {
     "name": "stdout",
     "output_type": "stream",
     "text": [
      "585.0\n",
      "532.0\n"
     ]
    }
   ],
   "source": [
    "# Question 2\n",
    "\n",
    "region_A= [550, 600, 580, 620, 590, 570, 610, 540, 560, 630];\n",
    "region_B = [520, 540, 530, 535, 525, 545, 510, 550, 535, 530]\n",
    "A_mean= np.mean(region_A)\n",
    "B_mean= np.mean(region_B)\n",
    "print(A_mean);\n",
    "print(B_mean)"
   ]
  },
  {
   "cell_type": "code",
   "execution_count": 59,
   "id": "c3a9aa59",
   "metadata": {},
   "outputs": [
    {
     "name": "stdout",
     "output_type": "stream",
     "text": [
      "28.722813232690143\n",
      "11.224972160321824\n"
     ]
    }
   ],
   "source": [
    "# standard deviation\n",
    "A_std=np.std(region_A)\n",
    "B_std=np.std(region_B)\n",
    "print(A_std)\n",
    "print(B_std)"
   ]
  },
  {
   "cell_type": "code",
   "execution_count": 60,
   "id": "cac99455",
   "metadata": {},
   "outputs": [
    {
     "name": "stdout",
     "output_type": "stream",
     "text": [
      "We will reject the null hypothesis\n"
     ]
    }
   ],
   "source": [
    "# Hypothesis Testing\n",
    "# H0: a significant difference in the average sales of this product between the two regions\n",
    "# H1: No significant difference in the average sales of this product between the two regions\n",
    "# therefore it is Two tailed\n",
    "\n",
    "### Two-sample T-Test \n",
    "from scipy.stats import ttest_ind\n",
    "import numpy as np\n",
    "regionA = np.random.uniform(low=540, high=630, size=(10,))\n",
    "regionB = np.random.uniform(low=510, high=550, size=(10,))\n",
    "ttest,pval = ttest_ind(regionA,regionB,)\n",
    "#print(\"\\np-value\",pval)\n",
    "if pval <0.05:\n",
    "  print(\"We will reject the null hypothesis\")\n",
    "else:\n",
    "  print(\"We have failed to reject the null hypothesis\")"
   ]
  },
  {
   "cell_type": "code",
   "execution_count": 61,
   "id": "5044282b",
   "metadata": {},
   "outputs": [
    {
     "name": "stdout",
     "output_type": "stream",
     "text": [
      "\n",
      "t_statistic 7.637174850438414\n",
      "\n",
      "p-value 4.7159919338045e-07\n"
     ]
    }
   ],
   "source": [
    "t_statistic, p_value = ttest_ind(regionA,regionB)\n",
    "print(\"\\nt_statistic\",t_statistic)\n",
    "print(\"\\np-value\",p_value)"
   ]
  },
  {
   "cell_type": "code",
   "execution_count": null,
   "id": "593d422e",
   "metadata": {},
   "outputs": [],
   "source": [
    "###  Conclusion\n",
    "# t_statistic value measures the difference between the means of the two regions A & B\n",
    "# relative to the variation within each sample. In this case, the t-statistic is 7.6371\n",
    "# higher  t-statistic value indicates a larger difference between the means of the two groups\n",
    "#(compares the means of two independent groups in order to determine whether there is statistical-\n",
    "# evidence that the associated population means are significantly different)\n",
    "# The p -value is very small value that is less than the significance level(0.05=5%) so reject the null hypothesis(H0)"
   ]
  },
  {
   "cell_type": "code",
   "execution_count": 4,
   "id": "86ff3f22",
   "metadata": {},
   "outputs": [
    {
     "data": {
      "text/html": [
       "<div>\n",
       "<style scoped>\n",
       "    .dataframe tbody tr th:only-of-type {\n",
       "        vertical-align: middle;\n",
       "    }\n",
       "\n",
       "    .dataframe tbody tr th {\n",
       "        vertical-align: top;\n",
       "    }\n",
       "\n",
       "    .dataframe thead th {\n",
       "        text-align: right;\n",
       "    }\n",
       "</style>\n",
       "<table border=\"1\" class=\"dataframe\">\n",
       "  <thead>\n",
       "    <tr style=\"text-align: right;\">\n",
       "      <th></th>\n",
       "      <th>gender</th>\n",
       "      <th>math score</th>\n",
       "      <th>reading score</th>\n",
       "      <th>writing score</th>\n",
       "    </tr>\n",
       "  </thead>\n",
       "  <tbody>\n",
       "    <tr>\n",
       "      <th>0</th>\n",
       "      <td>female</td>\n",
       "      <td>57</td>\n",
       "      <td>59</td>\n",
       "      <td>59</td>\n",
       "    </tr>\n",
       "    <tr>\n",
       "      <th>1</th>\n",
       "      <td>female</td>\n",
       "      <td>57</td>\n",
       "      <td>67</td>\n",
       "      <td>72</td>\n",
       "    </tr>\n",
       "    <tr>\n",
       "      <th>2</th>\n",
       "      <td>female</td>\n",
       "      <td>52</td>\n",
       "      <td>69</td>\n",
       "      <td>64</td>\n",
       "    </tr>\n",
       "    <tr>\n",
       "      <th>3</th>\n",
       "      <td>female</td>\n",
       "      <td>66</td>\n",
       "      <td>73</td>\n",
       "      <td>77</td>\n",
       "    </tr>\n",
       "    <tr>\n",
       "      <th>4</th>\n",
       "      <td>male</td>\n",
       "      <td>81</td>\n",
       "      <td>73</td>\n",
       "      <td>65</td>\n",
       "    </tr>\n",
       "    <tr>\n",
       "      <th>...</th>\n",
       "      <td>...</td>\n",
       "      <td>...</td>\n",
       "      <td>...</td>\n",
       "      <td>...</td>\n",
       "    </tr>\n",
       "    <tr>\n",
       "      <th>95</th>\n",
       "      <td>female</td>\n",
       "      <td>82</td>\n",
       "      <td>86</td>\n",
       "      <td>89</td>\n",
       "    </tr>\n",
       "    <tr>\n",
       "      <th>96</th>\n",
       "      <td>female</td>\n",
       "      <td>42</td>\n",
       "      <td>46</td>\n",
       "      <td>47</td>\n",
       "    </tr>\n",
       "    <tr>\n",
       "      <th>97</th>\n",
       "      <td>male</td>\n",
       "      <td>63</td>\n",
       "      <td>59</td>\n",
       "      <td>55</td>\n",
       "    </tr>\n",
       "    <tr>\n",
       "      <th>98</th>\n",
       "      <td>female</td>\n",
       "      <td>47</td>\n",
       "      <td>62</td>\n",
       "      <td>56</td>\n",
       "    </tr>\n",
       "    <tr>\n",
       "      <th>99</th>\n",
       "      <td>male</td>\n",
       "      <td>71</td>\n",
       "      <td>58</td>\n",
       "      <td>62</td>\n",
       "    </tr>\n",
       "  </tbody>\n",
       "</table>\n",
       "<p>100 rows × 4 columns</p>\n",
       "</div>"
      ],
      "text/plain": [
       "    gender  math score  reading score  writing score\n",
       "0   female          57             59             59\n",
       "1   female          57             67             72\n",
       "2   female          52             69             64\n",
       "3   female          66             73             77\n",
       "4     male          81             73             65\n",
       "..     ...         ...            ...            ...\n",
       "95  female          82             86             89\n",
       "96  female          42             46             47\n",
       "97    male          63             59             55\n",
       "98  female          47             62             56\n",
       "99    male          71             58             62\n",
       "\n",
       "[100 rows x 4 columns]"
      ]
     },
     "execution_count": 4,
     "metadata": {},
     "output_type": "execute_result"
    }
   ],
   "source": [
    "# Question 3\n",
    "import numpy as np\n",
    "import pandas as pd\n",
    "import seaborn as sns\n",
    "\n",
    "exams=pd.read_csv(r\"C:\\Users\\soory\\Desktop\\DS_Miniproject\\code questions\\exams.csv\")\n",
    "exams"
   ]
  },
  {
   "cell_type": "code",
   "execution_count": 5,
   "id": "9fbc8b9e",
   "metadata": {},
   "outputs": [
    {
     "data": {
      "text/html": [
       "<div>\n",
       "<style scoped>\n",
       "    .dataframe tbody tr th:only-of-type {\n",
       "        vertical-align: middle;\n",
       "    }\n",
       "\n",
       "    .dataframe tbody tr th {\n",
       "        vertical-align: top;\n",
       "    }\n",
       "\n",
       "    .dataframe thead th {\n",
       "        text-align: right;\n",
       "    }\n",
       "</style>\n",
       "<table border=\"1\" class=\"dataframe\">\n",
       "  <thead>\n",
       "    <tr style=\"text-align: right;\">\n",
       "      <th></th>\n",
       "      <th>gender</th>\n",
       "      <th>MS</th>\n",
       "      <th>RS</th>\n",
       "      <th>WS</th>\n",
       "    </tr>\n",
       "  </thead>\n",
       "  <tbody>\n",
       "    <tr>\n",
       "      <th>0</th>\n",
       "      <td>female</td>\n",
       "      <td>57</td>\n",
       "      <td>59</td>\n",
       "      <td>59</td>\n",
       "    </tr>\n",
       "    <tr>\n",
       "      <th>1</th>\n",
       "      <td>female</td>\n",
       "      <td>57</td>\n",
       "      <td>67</td>\n",
       "      <td>72</td>\n",
       "    </tr>\n",
       "    <tr>\n",
       "      <th>2</th>\n",
       "      <td>female</td>\n",
       "      <td>52</td>\n",
       "      <td>69</td>\n",
       "      <td>64</td>\n",
       "    </tr>\n",
       "    <tr>\n",
       "      <th>3</th>\n",
       "      <td>female</td>\n",
       "      <td>66</td>\n",
       "      <td>73</td>\n",
       "      <td>77</td>\n",
       "    </tr>\n",
       "    <tr>\n",
       "      <th>4</th>\n",
       "      <td>male</td>\n",
       "      <td>81</td>\n",
       "      <td>73</td>\n",
       "      <td>65</td>\n",
       "    </tr>\n",
       "    <tr>\n",
       "      <th>...</th>\n",
       "      <td>...</td>\n",
       "      <td>...</td>\n",
       "      <td>...</td>\n",
       "      <td>...</td>\n",
       "    </tr>\n",
       "    <tr>\n",
       "      <th>95</th>\n",
       "      <td>female</td>\n",
       "      <td>82</td>\n",
       "      <td>86</td>\n",
       "      <td>89</td>\n",
       "    </tr>\n",
       "    <tr>\n",
       "      <th>96</th>\n",
       "      <td>female</td>\n",
       "      <td>42</td>\n",
       "      <td>46</td>\n",
       "      <td>47</td>\n",
       "    </tr>\n",
       "    <tr>\n",
       "      <th>97</th>\n",
       "      <td>male</td>\n",
       "      <td>63</td>\n",
       "      <td>59</td>\n",
       "      <td>55</td>\n",
       "    </tr>\n",
       "    <tr>\n",
       "      <th>98</th>\n",
       "      <td>female</td>\n",
       "      <td>47</td>\n",
       "      <td>62</td>\n",
       "      <td>56</td>\n",
       "    </tr>\n",
       "    <tr>\n",
       "      <th>99</th>\n",
       "      <td>male</td>\n",
       "      <td>71</td>\n",
       "      <td>58</td>\n",
       "      <td>62</td>\n",
       "    </tr>\n",
       "  </tbody>\n",
       "</table>\n",
       "<p>100 rows × 4 columns</p>\n",
       "</div>"
      ],
      "text/plain": [
       "    gender  MS  RS  WS\n",
       "0   female  57  59  59\n",
       "1   female  57  67  72\n",
       "2   female  52  69  64\n",
       "3   female  66  73  77\n",
       "4     male  81  73  65\n",
       "..     ...  ..  ..  ..\n",
       "95  female  82  86  89\n",
       "96  female  42  46  47\n",
       "97    male  63  59  55\n",
       "98  female  47  62  56\n",
       "99    male  71  58  62\n",
       "\n",
       "[100 rows x 4 columns]"
      ]
     },
     "execution_count": 5,
     "metadata": {},
     "output_type": "execute_result"
    }
   ],
   "source": [
    "# Rename the column name\n",
    "exams.rename(columns={'math score':'MS','reading score':'RS','writing score':'WS'},inplace=True)\n",
    "exams"
   ]
  },
  {
   "cell_type": "code",
   "execution_count": 6,
   "id": "a1d8f4ae",
   "metadata": {
    "scrolled": true
   },
   "outputs": [
    {
     "name": "stdout",
     "output_type": "stream",
     "text": [
      "\n",
      "avg_maths_score 68.23\n",
      "\n",
      "avg_reading _score 69.7\n",
      "\n",
      "avg_writing_score 68.68\n"
     ]
    }
   ],
   "source": [
    "# extracts the values in the columns\n",
    "ms = exams['MS']\n",
    "rs = exams['RS']\n",
    "ws = exams['WS']\n",
    "\n",
    "avg_maths_score= ms.mean()\n",
    "avg_reading_score= rs.mean()\n",
    "avg_writing_score= ws.mean()\n",
    "print(\"\\navg_maths_score\",avg_maths_score) \n",
    "print(\"\\navg_reading _score\",avg_reading_score)\n",
    "print(\"\\navg_writing_score\",avg_writing_score)\n"
   ]
  },
  {
   "cell_type": "code",
   "execution_count": 43,
   "id": "bae7af21",
   "metadata": {},
   "outputs": [
    {
     "name": "stdout",
     "output_type": "stream",
     "text": [
      "15.110271441317758\n",
      "13.521774433793215\n",
      "13.867249405004806\n"
     ]
    }
   ],
   "source": [
    "maths_std=ms.std()\n",
    "print(maths_std)\n",
    "reading_std=rs.std()\n",
    "print(reading_std)\n",
    "writing_std=ws.std()\n",
    "print(writing_std)\n"
   ]
  },
  {
   "cell_type": "code",
   "execution_count": null,
   "id": "75a99764",
   "metadata": {},
   "outputs": [],
   "source": [
    "# \n",
    "# the standard deviations provide insights into the spread or dispersion of scores in each subject of the student \n",
    "# standard deviation is high indicates greater variability(significant difference between the scores is very high) among student scores,\n",
    "# when standard deviation is low indicates less variability\n",
    "# identifying areas where additional support may be needed for the student and areas for improvement and for\n",
    "# understanding if the teaching method is effective or not in different subjects"
   ]
  },
  {
   "cell_type": "code",
   "execution_count": 7,
   "id": "f0a3442c",
   "metadata": {},
   "outputs": [
    {
     "data": {
      "text/plain": [
       "<Axes: xlabel='MS', ylabel='Count'>"
      ]
     },
     "execution_count": 7,
     "metadata": {},
     "output_type": "execute_result"
    },
    {
     "data": {
      "image/png": "[encoded data removed]",
      "text/plain": [
       "<Figure size 640x480 with 1 Axes>"
      ]
     },
     "metadata": {},
     "output_type": "display_data"
    }
   ],
   "source": [
    "sns.histplot(ms, kde = True)\n",
    "# left skewness (mean is less than median)"
   ]
  },
  {
   "cell_type": "code",
   "execution_count": 109,
   "id": "e0f62eeb",
   "metadata": {},
   "outputs": [
    {
     "data": {
      "text/plain": [
       "83.34027144131777"
      ]
     },
     "execution_count": 109,
     "metadata": {},
     "output_type": "execute_result"
    }
   ],
   "source": [
    "# how many points do each student's maths score deviate from the average maths score 68.23\n",
    "# 1st std above mean\n",
    "avg_maths_score+maths_std"
   ]
  },
  {
   "cell_type": "code",
   "execution_count": 110,
   "id": "e46fff89",
   "metadata": {},
   "outputs": [
    {
     "data": {
      "text/plain": [
       "53.11972855868225"
      ]
     },
     "execution_count": 110,
     "metadata": {},
     "output_type": "execute_result"
    }
   ],
   "source": [
    "# 1st std below mean\n",
    "avg_maths_score-maths_std"
   ]
  },
  {
   "cell_type": "code",
   "execution_count": 118,
   "id": "980d1804",
   "metadata": {},
   "outputs": [
    {
     "data": {
      "text/plain": [
       "38.00945711736449"
      ]
     },
     "execution_count": 118,
     "metadata": {},
     "output_type": "execute_result"
    }
   ],
   "source": [
    "# 2nd std below mean\n",
    "avg_maths_score-(maths_std*2)"
   ]
  },
  {
   "cell_type": "code",
   "execution_count": 119,
   "id": "0140cdb3",
   "metadata": {},
   "outputs": [
    {
     "data": {
      "text/plain": [
       "98.45054288263552"
      ]
     },
     "execution_count": 119,
     "metadata": {},
     "output_type": "execute_result"
    }
   ],
   "source": [
    "# 2nd std above mean\n",
    "avg_maths_score+(maths_std*2)"
   ]
  },
  {
   "cell_type": "code",
   "execution_count": 121,
   "id": "672080ab",
   "metadata": {},
   "outputs": [
    {
     "data": {
      "text/plain": [
       "113.56081432395328"
      ]
     },
     "execution_count": 121,
     "metadata": {},
     "output_type": "execute_result"
    }
   ],
   "source": [
    "# 3rd std above mean\n",
    "avg_maths_score+(maths_std*3)"
   ]
  },
  {
   "cell_type": "code",
   "execution_count": 122,
   "id": "1dc18bf7",
   "metadata": {},
   "outputs": [
    {
     "data": {
      "text/plain": [
       "22.899185676046727"
      ]
     },
     "execution_count": 122,
     "metadata": {},
     "output_type": "execute_result"
    }
   ],
   "source": [
    "# 3rd std below mean\n",
    "avg_maths_score-(maths_std*3)"
   ]
  },
  {
   "cell_type": "code",
   "execution_count": 123,
   "id": "76e5c0fe",
   "metadata": {},
   "outputs": [
    {
     "data": {
      "text/plain": [
       "<matplotlib.lines.Line2D at 0x1dd4134f430>"
      ]
     },
     "execution_count": 123,
     "metadata": {},
     "output_type": "execute_result"
    },
    {
     "data": {
      "image/png": "[encoded data removed]",
      "text/plain": [
       "<Figure size 640x480 with 1 Axes>"
      ]
     },
     "metadata": {},
     "output_type": "display_data"
    }
   ],
   "source": [
    "import matplotlib.pyplot as plt\n",
    "import seaborn as sns\n",
    "# distribution of student maths scores\n",
    "sns.histplot(x=ms, bins=10)\n",
    "# average\n",
    "plt.axvline(x=avg_maths_score,ymin=0,ymax=ms.max(),color='yellow')\n",
    "\n",
    "# 1st std deviation\n",
    "plt.axvline(x=53.11972855868225,ymin=0,ymax=ms.max(),linestyle='--',color='red') # 1st std below mean\n",
    "plt.axvline(x=83.34027144131777,ymin=0,ymax=ms.max(),linestyle='--',color='red')# 1st std above mean\n",
    "\n",
    "# 2nd std deviation\n",
    "plt.axvline(x=38.00945711736449,ymin=0,ymax=ms.max(),linestyle='--',color='green') # 1st std below mean\n",
    "plt.axvline(x=98.45054288263552,ymin=0,ymax=ms.max(),linestyle='--',color='green')# 1st std above mean\n",
    "\n",
    "# 3rd std deviation\n",
    "plt.axvline(x=22.899185676046727,ymin=0,ymax=ms.max(),linestyle='--',color='orange') # 1st std below mean\n",
    "plt.axvline(x=113.56081432395328,ymin=0,ymax=ms.max(),linestyle='--',color='orange')# 1st std above mean\n",
    "\n"
   ]
  },
  {
   "cell_type": "code",
   "execution_count": 92,
   "id": "2208ed0a",
   "metadata": {
    "scrolled": true
   },
   "outputs": [
    {
     "name": "stdout",
     "output_type": "stream",
     "text": [
      "[81, 43, 70, 83, 80, 62, 81, 89, 73, 80, 94, 69, 91, 67, 61, 70, 44, 82, 56, 36, 41, 95, 75, 61, 70, 67, 62, 71, 77, 63, 55, 98, 80, 78, 64, 71, 84, 88, 83, 91, 60, 65, 84, 98, 69, 84, 71, 61, 81, 72, 29, 84, 83, 63, 71]\n",
      "[57, 57, 52, 66, 69, 75, 75, 64, 45, 46, 75, 61, 72, 90, 58, 68, 77, 53, 55, 34, 80, 81, 44, 84, 69, 59, 86, 63, 56, 50, 50, 74, 75, 57, 69, 58, 80, 80, 49, 54, 75, 49, 82, 42, 47]\n"
     ]
    }
   ],
   "source": [
    "# Hypothesis \n",
    "# H0: average math scores between male and female  are equal \n",
    "# H1: average math scores between male and female  are not equal \n",
    "df=pd.DataFrame(exams)\n",
    "male_ms = df[df['gender'] == 'male']['math score']\n",
    "female_ms = df[df['gender'] == 'female']['math score']\n",
    "#print(male_ms)\n",
    "#print(female_ms)\n",
    "male_score_list=male_ms.tolist()\n",
    "print(male_score_list)\n",
    "female_score_list=female_ms.tolist()\n",
    "print(female_score_list)"
   ]
  },
  {
   "cell_type": "code",
   "execution_count": 99,
   "id": "664fd7c5",
   "metadata": {},
   "outputs": [
    {
     "name": "stdout",
     "output_type": "stream",
     "text": [
      "\n",
      "p-value 0.6829857871010325\n",
      "We have failed to reject the null hypothesis\n"
     ]
    }
   ],
   "source": [
    "from scipy.stats import ttest_ind\n",
    "import numpy as np\n",
    "malescore = np.random.uniform(low=29, high=98, size=(55,))\n",
    "femalescore = np.random.uniform(low=34, high=90, size=(45,))\n",
    "ttest,pval2 = ttest_ind(malescore,femalescore,)\n",
    "print(\"\\np-value\",pval2)\n",
    "if pval2 <0.05:\n",
    "  print(\"We will reject the null hypothesis\")\n",
    "else:\n",
    "  print(\"We have failed to reject the null hypothesis\")"
   ]
  },
  {
   "cell_type": "code",
   "execution_count": 101,
   "id": "0eb8f535",
   "metadata": {},
   "outputs": [],
   "source": [
    "#mm_mean = np.mean(male_score_list)\n",
    "#fm_mean = np.mean(female_score_list)\n",
    "#print(mm_mean)\n",
    "#print(fm_mean)"
   ]
  },
  {
   "cell_type": "code",
   "execution_count": 98,
   "id": "5df43783",
   "metadata": {},
   "outputs": [
    {
     "data": {
      "text/plain": [
       "45"
      ]
     },
     "execution_count": 98,
     "metadata": {},
     "output_type": "execute_result"
    }
   ],
   "source": [
    "len(female_score_list)"
   ]
  },
  {
   "cell_type": "code",
   "execution_count": 107,
   "id": "42672941",
   "metadata": {},
   "outputs": [
    {
     "data": {
      "text/plain": [
       "90"
      ]
     },
     "execution_count": 107,
     "metadata": {},
     "output_type": "execute_result"
    }
   ],
   "source": [
    "max(female_score_list)"
   ]
  },
  {
   "cell_type": "code",
   "execution_count": 85,
   "id": "f7003981",
   "metadata": {},
   "outputs": [
    {
     "name": "stdout",
     "output_type": "stream",
     "text": [
      "Index(['gender', 'math score', 'reading score', 'writing score'], dtype='object')\n"
     ]
    }
   ],
   "source": [
    "print(df.columns)"
   ]
  },
  {
   "cell_type": "code",
   "execution_count": 49,
   "id": "4eefaea8",
   "metadata": {},
   "outputs": [
    {
     "name": "stdout",
     "output_type": "stream",
     "text": [
      "87.0\n",
      "92.0\n",
      "94.0\n"
     ]
    }
   ],
   "source": [
    "maths_percentage = (exams['MS'] >=50).mean() * 100\n",
    "print(maths_percentage)\n",
    "\n",
    "reading_percentage = (exams['RS'] >=50).mean() * 100\n",
    "print(reading_percentage)      \n",
    "\n",
    "writing_percentage = (exams['WS'] >=50).mean() * 100\n",
    "print(writing_percentage)       \n"
   ]
  },
  {
   "cell_type": "code",
   "execution_count": 3,
   "id": "1d692d8e",
   "metadata": {},
   "outputs": [],
   "source": [
    "# Question 4\n",
    "\n",
    "Store_A=np.random.uniform(low=1, high=10, size=(12,))\n",
    "#len(Store_A)\n",
    "Store_B=np.random.uniform(low=5, high=10, size=(12,))\n"
   ]
  },
  {
   "cell_type": "code",
   "execution_count": 4,
   "id": "60583231",
   "metadata": {},
   "outputs": [
    {
     "name": "stdout",
     "output_type": "stream",
     "text": [
      "4.619201227818266\n",
      "7.675928628511816\n"
     ]
    }
   ],
   "source": [
    "storeA_mean=np.mean(Store_A)\n",
    "print(storeA_mean)\n",
    "storeB_mean=np.mean(Store_B)\n",
    "print(storeB_mean)\n"
   ]
  },
  {
   "cell_type": "code",
   "execution_count": 5,
   "id": "58bb5172",
   "metadata": {},
   "outputs": [
    {
     "name": "stdout",
     "output_type": "stream",
     "text": [
      "2.611072317241878\n",
      "1.3641183221253355\n"
     ]
    }
   ],
   "source": [
    "storeA_std=np.std(Store_A)\n",
    "print(storeA_std)\n",
    "storeB_std=np.std(Store_B)\n",
    "print(storeB_std)"
   ]
  },
  {
   "cell_type": "code",
   "execution_count": 7,
   "id": "a39fd740",
   "metadata": {},
   "outputs": [
    {
     "name": "stdout",
     "output_type": "stream",
     "text": [
      "0.0005787949228729186\n",
      "reject null hypothesis\n"
     ]
    }
   ],
   "source": [
    "# H0: The customer satisfaction scores for Store A and Store B are equal(store_A=store_B)\n",
    "# H1: The customer satisfaction scores for Store A and Store B are not equal(store_A /= store_B)\n",
    "# it is a Two tailed  test\n",
    "\n",
    "\n",
    "# Z-Test\n",
    "import pandas as pd\n",
    "from scipy import stats\n",
    "from statsmodels.stats import weightstats as stests\n",
    "ztest ,pval1 = stests.ztest(Store_A,Store_B,)\n",
    "print(pval1)\n",
    "if pval1<0.05:\n",
    "    print(\"reject null hypothesis\")\n",
    "else:\n",
    "    print(\"failed to reject the null hypothesis\")"
   ]
  },
  {
   "cell_type": "code",
   "execution_count": 8,
   "id": "72b4717c",
   "metadata": {},
   "outputs": [
    {
     "name": "stdout",
     "output_type": "stream",
     "text": [
      "\n",
      "z_statistic -3.441361393073613\n",
      "\n",
      "p-value1 0.0005787949228729186\n"
     ]
    }
   ],
   "source": [
    "z_statistic, p_value1 = stests.ztest(Store_A,Store_B)\n",
    "print(\"\\nz_statistic\",z_statistic)\n",
    "print(\"\\np-value1\",p_value1)"
   ]
  },
  {
   "cell_type": "code",
   "execution_count": null,
   "id": "667f747d",
   "metadata": {},
   "outputs": [],
   "source": [
    "# z_statistic measures the difference between the means of the two samples (Store_A and Store_B) \n",
    "# so the value is -ve that means mean of store_A < mean of store_B\n",
    "# p value is very small so strong evidence to get reject the null hypothesis. difference in customer satisfaction scores between \n",
    "# Store_A and Store_B is statistically significant"
   ]
  }
 ],
 "metadata": {
  "kernelspec": {
   "display_name": "Python 3 (ipykernel)",
   "language": "python",
   "name": "python3"
  },
  "language_info": {
   "codemirror_mode": {
    "name": "ipython",
    "version": 3
   },
   "file_extension": ".py",
   "mimetype": "text/x-python",
   "name": "python",
   "nbconvert_exporter": "python",
   "pygments_lexer": "ipython3",
   "version": "3.10.9"
  }
 },
 "nbformat": 4,
 "nbformat_minor": 5
}
